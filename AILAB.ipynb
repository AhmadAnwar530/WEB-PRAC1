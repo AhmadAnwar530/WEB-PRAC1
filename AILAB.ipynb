{
  "nbformat": 4,
  "nbformat_minor": 0,
  "metadata": {
    "colab": {
      "provenance": [],
      "mount_file_id": "1nyBnNdq0h53nSRQ6SFJYIzF057Fa4jB1",
      "authorship_tag": "ABX9TyNBGlqzWyMN0K4Hvn6nhmDl",
      "include_colab_link": true
    },
    "kernelspec": {
      "name": "python3",
      "display_name": "Python 3"
    },
    "language_info": {
      "name": "python"
    }
  },
  "cells": [
    {
      "cell_type": "markdown",
      "metadata": {
        "id": "view-in-github",
        "colab_type": "text"
      },
      "source": [
        "<a href=\"https://colab.research.google.com/github/AhmadAnwar530/WEB-PRAC1/blob/main/AILAB.ipynb\" target=\"_parent\"><img src=\"https://colab.research.google.com/assets/colab-badge.svg\" alt=\"Open In Colab\"/></a>"
      ]
    },
    {
      "cell_type": "code",
      "execution_count": null,
      "metadata": {
        "id": "pegMRvjunn9H"
      },
      "outputs": [],
      "source": [
        "#Configuration environment\n",
        "import os\n",
        "\n",
        "os.environ['KAGGLE_USERNAME'] = \"ahmadbinanwar\" # username from the json file\n",
        "os.environ['KAGGLE_KEY'] = \"d7c49ed5e9e456bb44258a3632d2a5e3\" # key from the json file"
      ]
    },
    {
      "cell_type": "code",
      "source": [
        "!kaggle datasets download -d yasserhessein/gender-dataset"
      ],
      "metadata": {
        "colab": {
          "base_uri": "https://localhost:8080/"
        },
        "id": "ALyuPcIqqO7E",
        "outputId": "c94d3278-fa7f-4fa9-90e6-065b6a701255"
      },
      "execution_count": null,
      "outputs": [
        {
          "output_type": "stream",
          "name": "stdout",
          "text": [
            "Downloading gender-dataset.zip to /content\n",
            " 99% 1.30G/1.32G [00:14<00:00, 97.8MB/s]\n",
            "100% 1.32G/1.32G [00:14<00:00, 99.8MB/s]\n"
          ]
        }
      ]
    },
    {
      "cell_type": "code",
      "source": [
        "!/kaggle/input/gender-dataset/Dataset\n"
      ],
      "metadata": {
        "colab": {
          "base_uri": "https://localhost:8080/"
        },
        "id": "sfbFMjAMuFwG",
        "outputId": "f6b7fab4-864d-4c0f-db72-8c1f973ff6bc"
      },
      "execution_count": 3,
      "outputs": [
        {
          "output_type": "stream",
          "name": "stdout",
          "text": [
            "/bin/bash: /kaggle/input/gender-dataset/Dataset: No such file or directory\n"
          ]
        }
      ]
    }
  ]
}